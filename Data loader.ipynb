{
 "cells": [
  {
   "cell_type": "code",
   "execution_count": 6,
   "id": "f09d9bcd",
   "metadata": {},
   "outputs": [],
   "source": [
    "from torchtext.data.utils import get_tokenizer\n",
    "from torchtext.vocab import build_vocab_from_iterator"
   ]
  },
  {
   "cell_type": "code",
   "execution_count": 7,
   "id": "dcafc06c",
   "metadata": {},
   "outputs": [],
   "source": [
    "from torch.utils.data import DataLoader, Dataset"
   ]
  },
  {
   "cell_type": "code",
   "execution_count": 8,
   "id": "1389fd2a",
   "metadata": {},
   "outputs": [],
   "source": [
    "import pandas as pd\n",
    "import string"
   ]
  },
  {
   "cell_type": "code",
   "execution_count": 9,
   "id": "3fcbdd8e",
   "metadata": {},
   "outputs": [],
   "source": [
    "from torchvision import transforms\n",
    "from PIL import Image"
   ]
  },
  {
   "cell_type": "code",
   "execution_count": 10,
   "id": "ecc0c8f1",
   "metadata": {},
   "outputs": [],
   "source": [
    "from pathlib import Path"
   ]
  },
  {
   "cell_type": "code",
   "execution_count": 11,
   "id": "1fde4dfc",
   "metadata": {},
   "outputs": [],
   "source": [
    "import torchvision.transforms.functional as TF"
   ]
  },
  {
   "cell_type": "code",
   "execution_count": 54,
   "id": "96ccb01c",
   "metadata": {},
   "outputs": [],
   "source": [
    "def remove_spaces(str_):\n",
    "    return ' '.join(str_.split())"
   ]
  },
  {
   "cell_type": "code",
   "execution_count": 69,
   "id": "2d42e594",
   "metadata": {},
   "outputs": [],
   "source": [
    "class ImageCaptioningDataset(Dataset):\n",
    "    def __init__(self,caption_file,image_dir,image_transform=transforms.Normalize(mean=[0.485, 0.456, 0.406],std=[0.229, 0.224, 0.225])):\n",
    "        self.image_transform = image_transform\n",
    "        self.image_dir = Path(image_dir)\n",
    "        captions_csv = pd.read_csv(caption_file, sep=\"|\")\n",
    "        self.captions_csv = captions_csv.rename(lambda x: x.strip(), axis=1)\n",
    "        self.captions_csv.comment.loc[19999] = self.captions_csv.comment_number.loc[19999][3:]\n",
    "        self.captions_csv.comment_number.loc[19999] = 4\n",
    "        self.captions_csv['comment'] = self.captions_csv['comment'].str.lower()\n",
    "        self.captions_csv['comment'] = self.captions_csv['comment'].str.strip()\n",
    "        self.captions_csv['comment'] = self.captions_csv['comment'].apply(remove_spaces)\n",
    "        self.captions_csv['comment'] = self.captions_csv['comment'].str.translate(str.maketrans('', '', string.punctuation))\n",
    "\n",
    "        display(self.captions_csv['comment'].loc[0])\n",
    "        self.tokenizer = get_tokenizer('spacy', language='en_core_web_sm',)\n",
    "        self.list_of_tokens = self.captions_csv['comment'].apply(self.tokenizer)\n",
    "        self.vocab = build_vocab_from_iterator(self.list_of_tokens)\n",
    "        self.vocab.append_token('<START>')\n",
    "        self.vocab.append_token('<END>')\n",
    "        self.vocab.append_token('<PAD>')\n",
    "        self.list_of_tokens = list(map(lambda x: ['<START>'] + x + ['<END>'], self.list_of_tokens))\n",
    "    def __len__(self):\n",
    "        return self.captions_csv.shape[0]\n",
    "    \n",
    "    def __getitem__(self, idx):\n",
    "        image_path = self.image_dir / Path(self.captions_csv.loc[idx,'image_name'])\n",
    "        image = Image.open(image_path)\n",
    "        image = TF.to_tensor(image)\n",
    "        if self.image_transform:\n",
    "            image = self.image_transform(image)\n",
    "        return image, self.vocab(self.list_of_tokens[idx]), len(self.list_of_tokens[idx])"
   ]
  }
 ],
 "metadata": {
  "kernelspec": {
   "display_name": "Python 3 (ipykernel)",
   "language": "python",
   "name": "python3"
  },
  "language_info": {
   "codemirror_mode": {
    "name": "ipython",
    "version": 3
   },
   "file_extension": ".py",
   "mimetype": "text/x-python",
   "name": "python",
   "nbconvert_exporter": "python",
   "pygments_lexer": "ipython3",
   "version": "3.11.5"
  }
 },
 "nbformat": 4,
 "nbformat_minor": 5
}
