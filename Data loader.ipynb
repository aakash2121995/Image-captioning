{
 "cells": [
  {
   "cell_type": "code",
   "execution_count": 13,
   "id": "f09d9bcd",
   "metadata": {},
   "outputs": [],
   "source": [
    "from torchtext.data.utils import get_tokenizer\n",
    "from torchtext.vocab import build_vocab_from_iterator"
   ]
  },
  {
   "cell_type": "code",
   "execution_count": 14,
   "id": "dcafc06c",
   "metadata": {},
   "outputs": [],
   "source": [
    "from torch.utils.data import DataLoader, Dataset"
   ]
  },
  {
   "cell_type": "code",
   "execution_count": 15,
   "id": "1389fd2a",
   "metadata": {},
   "outputs": [],
   "source": [
    "import pandas as pd"
   ]
  },
  {
   "cell_type": "code",
   "execution_count": 16,
   "id": "782bdc12",
   "metadata": {},
   "outputs": [],
   "source": [
    "from torchvision.io import read_image"
   ]
  },
  {
   "cell_type": "code",
   "execution_count": 17,
   "id": "ecc0c8f1",
   "metadata": {},
   "outputs": [],
   "source": [
    "from pathlib import Path"
   ]
  },
  {
   "cell_type": "code",
   "execution_count": 37,
   "id": "4e3bb5a4",
   "metadata": {},
   "outputs": [
    {
     "data": {
      "text/plain": [
       "'  A dog runs across the grass .'"
      ]
     },
     "execution_count": 37,
     "metadata": {},
     "output_type": "execute_result"
    }
   ],
   "source": [
    "labels.comment_number.loc[19999][3:]"
   ]
  },
  {
   "cell_type": "code",
   "execution_count": 38,
   "id": "2d42e594",
   "metadata": {},
   "outputs": [],
   "source": [
    "class ImageCaptioningDataset(Dataset):\n",
    "    def __init__(self,caption_file,image_dir,image_transform=None):\n",
    "        self.image_transform = image_transform\n",
    "        self.image_dir = Path(image_dir)\n",
    "        captions_csv = pd.read_csv(caption_file, sep=\"|\")\n",
    "        self.captions_csv = captions_csv.rename(lambda x: x.strip(), axis=1)\n",
    "        self.captions_csv['comment'] = self.captions_csv['comment'].str.lower()\n",
    "        self.captions_csv.comment.loc[19999] = self.captions_csv.comment_number.loc[19999][3:]\n",
    "        self.captions_csv.comment_number.loc[19999] = 4\n",
    "        display(self.captions_csv['comment'])\n",
    "        self.tokenizer = get_tokenizer('spacy', language='en_core_web_sm',)\n",
    "        self.list_of_tokens = self.captions_csv['comment'].apply(self.tokenizer)\n",
    "        self.vocab = build_vocab_from_iterator(self.list_of_tokens)\n",
    "    def __len__(self):\n",
    "        return self.captions_csv.shape[0]\n",
    "    \n",
    "    def __getitem__(self, idx):\n",
    "        image_path = self.image_dir / Path(self.captions_csv.loc[idx,'image_name'])\n",
    "        image = read_image(str(image_path))\n",
    "        if self.image_transform:\n",
    "            image = self.image_transform(image)\n",
    "        return image, self.vocab(self.list_of_tokens[idx])"
   ]
  },
  {
   "cell_type": "code",
   "execution_count": 39,
   "id": "ec01c7d6",
   "metadata": {},
   "outputs": [
    {
     "data": {
      "text/plain": [
       "0          two young guys with shaggy hair look at their...\n",
       "1          two young , white males are outside near many...\n",
       "2          two men in green shirts are standing in a yard .\n",
       "3              a man in a blue shirt standing in a garden .\n",
       "4                   two friends enjoy time spent together .\n",
       "                                ...                        \n",
       "158910     a man in shorts and a hawaiian shirt leans ov...\n",
       "158911     a young man hanging over the side of a boat ,...\n",
       "158912     a man is leaning off of the side of a blue an...\n",
       "158913     a man riding a small boat in a harbor , with ...\n",
       "158914     a man on a moored blue and white boat with hi...\n",
       "Name: comment, Length: 158915, dtype: object"
      ]
     },
     "metadata": {},
     "output_type": "display_data"
    }
   ],
   "source": [
    "dataset = ImageCaptioningDataset('./flickr30k_images/results.csv', './flickr30k_images/flickr30k_images/',)"
   ]
  }
 ],
 "metadata": {
  "kernelspec": {
   "display_name": "Python 3 (ipykernel)",
   "language": "python",
   "name": "python3"
  },
  "language_info": {
   "codemirror_mode": {
    "name": "ipython",
    "version": 3
   },
   "file_extension": ".py",
   "mimetype": "text/x-python",
   "name": "python",
   "nbconvert_exporter": "python",
   "pygments_lexer": "ipython3",
   "version": "3.11.5"
  }
 },
 "nbformat": 4,
 "nbformat_minor": 5
}
