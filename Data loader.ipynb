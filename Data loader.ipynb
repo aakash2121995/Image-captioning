{
 "cells": [
  {
   "cell_type": "markdown",
   "id": "07b31639",
   "metadata": {},
   "source": [
    "### Importing libraries for dataset creation"
   ]
  },
  {
   "cell_type": "code",
   "execution_count": 1,
   "id": "f09d9bcd",
   "metadata": {},
   "outputs": [],
   "source": [
    "from torchtext.data.utils import get_tokenizer\n",
    "from torchtext.vocab import build_vocab_from_iterator"
   ]
  },
  {
   "cell_type": "code",
   "execution_count": 2,
   "id": "dcafc06c",
   "metadata": {},
   "outputs": [],
   "source": [
    "from torch.utils.data import DataLoader, Dataset"
   ]
  },
  {
   "cell_type": "code",
   "execution_count": 3,
   "id": "1389fd2a",
   "metadata": {},
   "outputs": [],
   "source": [
    "import pandas as pd\n",
    "import string"
   ]
  },
  {
   "cell_type": "code",
   "execution_count": 1,
   "id": "3fcbdd8e",
   "metadata": {},
   "outputs": [],
   "source": [
    "from torchvision import transforms\n",
    "from torchvision.io import read_image"
   ]
  },
  {
   "cell_type": "code",
   "execution_count": 5,
   "id": "ecc0c8f1",
   "metadata": {},
   "outputs": [],
   "source": [
    "from pathlib import Path"
   ]
  },
  {
   "cell_type": "code",
   "execution_count": 1,
   "id": "0c8e451c",
   "metadata": {},
   "outputs": [],
   "source": [
    "import pickle\n"
   ]
  },
  {
   "cell_type": "code",
   "execution_count": 7,
   "id": "dfa32b8d",
   "metadata": {},
   "outputs": [],
   "source": [
    "def remove_spaces(str_):\n",
    "    return ' '.join(str_.split())"
   ]
  },
  {
   "cell_type": "code",
   "execution_count": 10,
   "id": "2d42e594",
   "metadata": {},
   "outputs": [],
   "source": [
    "class ImageCaptioningDataset(Dataset):\n",
    "    def __init__(self,caption_file,image_dir,image_size=(224,224),image_transform=transforms.Normalize(mean=[0.485, 0.456, 0.406],std=[0.229, 0.224, 0.225])):\n",
    "        self.image_dir = Path(image_dir)\n",
    "        captions_csv = pd.read_csv(caption_file, sep=\"|\")\n",
    "        self.captions_csv = captions_csv.rename(lambda x: x.strip(), axis=1)\n",
    "        self.captions_csv.comment.loc[19999] = self.captions_csv.comment_number.loc[19999][3:]\n",
    "        self.captions_csv.comment_number.loc[19999] = 4\n",
    "        self.captions_csv['comment'] = self.captions_csv['comment'].str.lower()\n",
    "        self.captions_csv['comment'] = self.captions_csv['comment'].str.strip()\n",
    "        self.captions_csv['comment'] = self.captions_csv['comment'].apply(remove_spaces)\n",
    "        self.captions_csv['comment'] = self.captions_csv['comment'].str.translate(str.maketrans('', '', string.punctuation))\n",
    "        \n",
    "        self.image_transform = transforms.Compose([transforms.Resize(image_size),transforms.ToTensor(),image_transform])        \n",
    "\n",
    "        self.tokenizer = get_tokenizer('spacy', language='en_core_web_sm',)\n",
    "        self.list_of_tokens = self.captions_csv['comment'].apply(self.tokenizer)\n",
    "        self.vocab = build_vocab_from_iterator(self.list_of_tokens,min)\n",
    "        self.vocab.append_token('<START>')\n",
    "        self.vocab.append_token('<END>')\n",
    "        self.vocab.append_token('<PAD>')\n",
    "        self.list_of_tokens = list(map(lambda x: ['<START>'] + x + ['<END>'], self.list_of_tokens))\n",
    "        self.list_of_tokens = [torch.IntTensor(self.vocab(tokens)) for tokens in self.list_of_tokens]\n",
    "        self.images = {image_name: False for image_name in self.captions_csv.image_name.unique()}\n",
    "        \n",
    "            \n",
    "    def __len__(self):\n",
    "        return self.captions_csv.shape[0]\n",
    "    \n",
    "    def __getitem__(self, idx):\n",
    "        if isinstance(self.images[self.captions_csv.loc[idx,'image_name']], torch.Tensor):\n",
    "            return self.images[self.captions_csv.loc[idx,'image_name']], self.list_of_tokens[idx], self.list_of_tokens[idx].shape[0]\n",
    "        image_path = self.image_dir / Path(self.captions_csv.loc[idx,'image_name'])\n",
    "        image = Image.open(image_path)\n",
    "        image = self.image_transform(image)\n",
    "        self.images[self.captions_csv.loc[idx,'image_name']] = image\n",
    "        return image, self.list_of_tokens[idx], self.list_of_tokens[idx].shape[0]"
   ]
  },
  {
   "cell_type": "code",
   "execution_count": 15,
   "id": "fae30bb1",
   "metadata": {},
   "outputs": [
    {
     "name": "stderr",
     "output_type": "stream",
     "text": [
      "C:\\Users\\Y9G6NU724\\anaconda3\\Lib\\site-packages\\torchvision\\models\\_utils.py:208: UserWarning: The parameter 'pretrained' is deprecated since 0.13 and may be removed in the future, please use 'weights' instead.\n",
      "  warnings.warn(\n",
      "C:\\Users\\Y9G6NU724\\anaconda3\\Lib\\site-packages\\torchvision\\models\\_utils.py:223: UserWarning: Arguments other than a weight enum or `None` for 'weights' are deprecated since 0.13 and may be removed in the future. The current behavior is equivalent to passing `weights=ResNet18_Weights.IMAGENET1K_V1`. You can also use `weights=ResNet18_Weights.DEFAULT` to get the most up-to-date weights.\n",
      "  warnings.warn(msg)\n"
     ]
    }
   ],
   "source": [
    "class ImageCaptioningDatasetOnlyFeatures(Dataset):\n",
    "    def __init__(self,caption_file,image_dir,encoder=None,cache_file=None):\n",
    "        self.image_dir = Path(image_dir)\n",
    "        captions_csv = pd.read_csv(caption_file, sep=\"|\")\n",
    "        \n",
    "        self.captions_csv = captions_csv.rename(lambda x: x.strip(), axis=1)\n",
    "        self.captions_csv.comment.loc[19999] = self.captions_csv.comment_number.loc[19999][3:]\n",
    "        self.captions_csv.comment_number.loc[19999] = 4\n",
    "        self.captions_csv['comment'] = self.captions_csv['comment'].str.lower()\n",
    "        self.captions_csv['comment'] = self.captions_csv['comment'].str.strip()\n",
    "        self.captions_csv['comment'] = self.captions_csv['comment'].apply(remove_spaces)\n",
    "        self.captions_csv['comment'] = self.captions_csv['comment'].str.translate(str.maketrans('', '', string.punctuation))\n",
    "    \n",
    "        self.tokenizer = get_tokenizer('spacy', language='en_core_web_sm',)\n",
    "        self.list_of_tokens = self.captions_csv['comment'].apply(self.tokenizer)\n",
    "        self.vocab = build_vocab_from_iterator(self.list_of_tokens, min_freq=10,special_first=True,specials=[\"<START>\", \"<END>\", \"<PAD>\"],)\n",
    "        self.vocab.set_default_index(-1)\n",
    "        self.list_of_tokens = list(map(lambda x: ['<START>'] + x + ['<END>'], self.list_of_tokens))\n",
    "        self.list_of_tokens = [torch.IntTensor([ele for ele in self.vocab(tokens) if ele !=-1]) for tokens in self.list_of_tokens]\n",
    "        \n",
    "        self.device = torch.device(\"cuda\" if torch.cuda.is_available() else \"cpu\")\n",
    "        if encoder:\n",
    "            self.encoder=encoder.to(self.device).eval()\n",
    "        if cache_file:\n",
    "            with open(cache_file, 'rb') as f:\n",
    "                self.images_features = pickle.load(f)\n",
    "        else:\n",
    "            self.images_features = {image_name: False for image_name in self.captions_csv.image_name.unique()}\n",
    "            \n",
    "    def __len__(self):\n",
    "        return self.captions_csv.shape[0]\n",
    "    \n",
    "    def __getitem__(self, idx):\n",
    "        if isinstance(self.images_features[self.captions_csv.loc[idx,'image_name']], torch.Tensor):\n",
    "            return self.images_features[self.captions_csv.loc[idx,'image_name']], self.list_of_tokens[idx], self.list_of_tokens[idx].shape[0], self.image_dir / Path(self.captions_csv.loc[idx,'image_name'])\n",
    "        image_path = self.image_dir / Path(self.captions_csv.loc[idx,'image_name'])\n",
    "        image = read_image(str(image_path))\n",
    "        features = self.encoder(image.to(self.device)).squeeze().cpu()\n",
    "        self.images_features[self.captions_csv.loc[idx,'image_name']] = features\n",
    "        return features, self.list_of_tokens[idx], self.list_of_tokens[idx].shape[0], image_path"
   ]
  }
 ],
 "metadata": {
  "kernelspec": {
   "display_name": "Python 3 (ipykernel)",
   "language": "python",
   "name": "python3"
  },
  "language_info": {
   "codemirror_mode": {
    "name": "ipython",
    "version": 3
   },
   "file_extension": ".py",
   "mimetype": "text/x-python",
   "name": "python",
   "nbconvert_exporter": "python",
   "pygments_lexer": "ipython3",
   "version": "3.11.5"
  }
 },
 "nbformat": 4,
 "nbformat_minor": 5
}
