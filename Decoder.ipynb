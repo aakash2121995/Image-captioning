{
 "cells": [
  {
   "cell_type": "code",
   "execution_count": 6,
   "id": "17c76bca",
   "metadata": {},
   "outputs": [],
   "source": [
    "import torch"
   ]
  },
  {
   "cell_type": "code",
   "execution_count": 7,
   "id": "42785684",
   "metadata": {},
   "outputs": [],
   "source": [
    "import torch.nn as nn"
   ]
  },
  {
   "cell_type": "code",
   "execution_count": 60,
   "id": "66b7403f",
   "metadata": {},
   "outputs": [],
   "source": [
    "class Decoder(nn.Module):\n",
    "    def __init__(self, embedding_size, vocab_size, hidden_size):\n",
    "        super(Decoder,self).__init__()\n",
    "        self.hidden_size = hidden_size\n",
    "        self.embedding = nn.Embedding(vocab_size,embedding_size)\n",
    "        self.lstm = nn.LSTMCell(embedding_size, hidden_size)\n",
    "        self.fc = nn.Linear(hidden_size,vocab_size)\n",
    "        \n",
    "    def forward(self, features, captions):\n",
    "        time_steps = captions.size(1)\n",
    "        batch_size = features.size(0)\n",
    "        caption_embeddings = self.embedding(captions)\n",
    "        hx = torch.zeros(batch_size, self.hidden_size)  \n",
    "        cx = torch.zeros(batch_size, self.hidden_size)\n",
    "        output = []\n",
    "        for i in range(time_steps):\n",
    "            if i == 0:\n",
    "                hx, cx = self.lstm(features, (hx,cx))\n",
    "            else:\n",
    "                hx, cx = self.lstm(caption_embeddings[:,i-1,:], (hx, cx))\n",
    "            output.append(hx)\n",
    "            \n",
    "        raw_scores = self.fc(torch.stack(output,1))\n",
    "        \n",
    "        return raw_scores\n",
    "        \n",
    "        "
   ]
  }
 ],
 "metadata": {
  "kernelspec": {
   "display_name": "Python 3 (ipykernel)",
   "language": "python",
   "name": "python3"
  },
  "language_info": {
   "codemirror_mode": {
    "name": "ipython",
    "version": 3
   },
   "file_extension": ".py",
   "mimetype": "text/x-python",
   "name": "python",
   "nbconvert_exporter": "python",
   "pygments_lexer": "ipython3",
   "version": "3.11.5"
  }
 },
 "nbformat": 4,
 "nbformat_minor": 5
}
