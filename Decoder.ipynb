{
 "cells": [
  {
   "cell_type": "code",
   "execution_count": 6,
   "id": "17c76bca",
   "metadata": {},
   "outputs": [],
   "source": [
    "import torch"
   ]
  },
  {
   "cell_type": "code",
   "execution_count": 7,
   "id": "42785684",
   "metadata": {},
   "outputs": [],
   "source": [
    "import torch.nn as nn"
   ]
  },
  {
   "cell_type": "code",
   "execution_count": 60,
   "id": "66b7403f",
   "metadata": {},
   "outputs": [],
   "source": [
    "class Decoder(nn.Module):\n",
    "    def __init__(self, feature_size, embedding_size, vocab_size, hidden_size):\n",
    "        super(Decoder,self).__init__()\n",
    "        self.hidden_size = hidden_size\n",
    "        self.embedding = nn.Embedding(vocab_size,embedding_size)\n",
    "        self.lstm = nn.LSTMCell(embedding_size, hidden_size)\n",
    "        self.fc = nn.Linear(hidden_size,vocab_size)\n",
    "        self.init_h = nn.Linear(feature_size, hidden_size)  # linear layer to find initial hidden state of LSTMCell\n",
    "        self.init_c = nn.Linear(feature_size, hidden_size)  # linear layer to find initial cell state of LSTMCell\n",
    "        self.vocab_size = vocab_size\n",
    "        \n",
    "    def forward(self, features, captions, caption_lengths):\n",
    "        batch_size = features.shape[0]\n",
    "        sorted_caption_lengths, sort_ind = caption_lengths.squeeze(1).sort(dim=0, descending=True)\n",
    "        print(features.shape)\n",
    "        features = features[sort_ind]\n",
    "        print(features.shape)\n",
    "        captions = captions[sort_ind]\n",
    "        caption_embeddings = self.embedding(captions)\n",
    "        decode_lengths = sorted_caption_lengths - 1\n",
    "        output = torch.zeros((batch_size,int(decode_lengths.max()),self.vocab_size))\n",
    "        print(features.shape)\n",
    "        hx = self.init_h(features) \n",
    "        print(hx.shape)\n",
    "        cx = self.init_c(features)\n",
    "        for t in range(int(decode_lengths.max())):\n",
    "            batch_size_t = int((decode_lengths > t).sum())\n",
    "            hx, cx = self.lstm(caption_embeddings[:batch_size_t,t,:], (hx, cx))\n",
    "            raw_scores = self.fc(hx)\n",
    "            output[:batch_size_t,t,:] = raw_scores       \n",
    "        return output\n",
    "        \n",
    "        "
   ]
  }
 ],
 "metadata": {
  "kernelspec": {
   "display_name": "Python 3 (ipykernel)",
   "language": "python",
   "name": "python3"
  },
  "language_info": {
   "codemirror_mode": {
    "name": "ipython",
    "version": 3
   },
   "file_extension": ".py",
   "mimetype": "text/x-python",
   "name": "python",
   "nbconvert_exporter": "python",
   "pygments_lexer": "ipython3",
   "version": "3.11.5"
  }
 },
 "nbformat": 4,
 "nbformat_minor": 5
}
