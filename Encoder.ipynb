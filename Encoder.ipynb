{
 "cells": [
  {
   "cell_type": "code",
   "execution_count": 1,
   "id": "41e0c8e1",
   "metadata": {},
   "outputs": [],
   "source": [
    "import torch"
   ]
  },
  {
   "cell_type": "code",
   "execution_count": 2,
   "id": "1451e489",
   "metadata": {},
   "outputs": [],
   "source": [
    "import torch.nn as nn"
   ]
  },
  {
   "cell_type": "code",
   "execution_count": 3,
   "id": "7cde920c",
   "metadata": {},
   "outputs": [],
   "source": [
    "from torchvision.models import resnet18, ResNet18_Weights, VGG16_Weights, vgg16\n",
    "from torchvision.models.feature_extraction import create_feature_extractor as create_feature_extractor"
   ]
  },
  {
   "cell_type": "code",
   "execution_count": null,
   "id": "96e70d12",
   "metadata": {},
   "outputs": [],
   "source": [
    "class EncoderResnet18(nn.Module):\n",
    "    def __init__(self):\n",
    "        super(EncoderResnet18, self).__init__()\n",
    "        # Step 1: Initialize model with the best available weights\n",
    "        weights = ResNet18_Weights.DEFAULT\n",
    "        model = resnet18(weights=weights)\n",
    "        self.preprocess = weights.transforms()\n",
    "        self.net = create_feature_extractor(model,['avgpool'])\n",
    "        for p in self.net.parameters():\n",
    "            p.requires_grad = False\n",
    "\n",
    "    def forward(self,x):\n",
    "        x = self.preprocess(x).unsqueeze(0)\n",
    "        features = self.net(x)['avgpool']\n",
    "        return features"
   ]
  },
  {
   "cell_type": "code",
   "execution_count": 19,
   "id": "0ff7dcd9",
   "metadata": {},
   "outputs": [],
   "source": [
    "class EncoderVGG16(nn.Module):\n",
    "    def __init__(self):\n",
    "        super(EncoderVGG16, self).__init__()\n",
    "        # Step 1: Initialize model with the best available weights\n",
    "        weights = VGG16_Weights.DEFAULT\n",
    "        model = vgg16(weights=weights)\n",
    "        self.preprocess = weights.transforms()\n",
    "        del model.classifier[-1]\n",
    "        self.net = create_feature_extractor(model,['classifier'])\n",
    "        for p in self.net.parameters():\n",
    "            p.requires_grad = False\n",
    "\n",
    "    def forward(self,x):\n",
    "        x = self.preprocess(x).unsqueeze(0)\n",
    "        features = self.net(x)['classifier']\n",
    "        return features"
   ]
  }
 ],
 "metadata": {
  "kernelspec": {
   "display_name": "Python 3 (ipykernel)",
   "language": "python",
   "name": "python3"
  },
  "language_info": {
   "codemirror_mode": {
    "name": "ipython",
    "version": 3
   },
   "file_extension": ".py",
   "mimetype": "text/x-python",
   "name": "python",
   "nbconvert_exporter": "python",
   "pygments_lexer": "ipython3",
   "version": "3.11.5"
  }
 },
 "nbformat": 4,
 "nbformat_minor": 5
}
