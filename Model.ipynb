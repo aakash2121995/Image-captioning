{
 "cells": [
  {
   "cell_type": "code",
   "execution_count": 69,
   "id": "aa3ca8c2",
   "metadata": {},
   "outputs": [],
   "source": [
    "%run Encoder.ipynb"
   ]
  },
  {
   "cell_type": "code",
   "execution_count": 136,
   "id": "72bd95aa",
   "metadata": {},
   "outputs": [],
   "source": [
    "%run Decoder.ipynb"
   ]
  },
  {
   "cell_type": "code",
   "execution_count": 137,
   "id": "3d81c6a5",
   "metadata": {},
   "outputs": [],
   "source": [
    "class CnnLstmModel(nn.Module):\n",
    "    def __init__(self, feature_size, embedding_size, vocab_size, hidden_size):\n",
    "        super(CnnLstmModel, self).__init__()\n",
    "        self.encoder = Encoder(feature_size)\n",
    "        self.decoder = Decoder(feature_size, embedding_size, vocab_size, hidden_size)\n",
    "    def forward(self, image, captions,caption_lengths):\n",
    "        features = self.encoder(image)\n",
    "        out = self.decoder(features, captions,caption_lengths)\n",
    "        return out"
   ]
  }
 ],
 "metadata": {
  "kernelspec": {
   "display_name": "Python 3 (ipykernel)",
   "language": "python",
   "name": "python3"
  },
  "language_info": {
   "codemirror_mode": {
    "name": "ipython",
    "version": 3
   },
   "file_extension": ".py",
   "mimetype": "text/x-python",
   "name": "python",
   "nbconvert_exporter": "python",
   "pygments_lexer": "ipython3",
   "version": "3.11.5"
  }
 },
 "nbformat": 4,
 "nbformat_minor": 5
}
